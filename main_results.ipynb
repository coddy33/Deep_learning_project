{
 "cells": [
  {
   "cell_type": "code",
   "execution_count": 36,
   "metadata": {},
   "outputs": [],
   "source": [
    "import time\n",
    "start = time.time()"
   ]
  },
  {
   "cell_type": "code",
   "execution_count": 37,
   "metadata": {},
   "outputs": [],
   "source": [
    "import sys \n",
    "import os\n",
    "import torchvision\n",
    "import torchvision.transforms as transforms\n",
    "import torch\n",
    "import torch.nn as nn \n",
    "import torch.nn.functional as F\n",
    "import torch.optim as optim\n",
    "import matplotlib.pyplot as plt\n",
    "import numpy as np\n",
    "from torch.utils.data import Dataset, DataLoader\n",
    "from torchvision import transforms, datasets\n",
    "\n",
    "def read_folder(path):\n",
    "    files = os.listdir(path)\n",
    "    for name in files:\n",
    "        if name.find(' ') != -1:\n",
    "            os.rename(path+'/' + name, path+ '/' +name.replace(' ', '_'))\n",
    "\n"
   ]
  },
  {
   "cell_type": "code",
   "execution_count": 38,
   "metadata": {},
   "outputs": [],
   "source": [
    "path_train  = './fruits_360/fruits-360/Training'\n",
    "path_test = './fruits_360/fruits-360/Test'\n",
    "\n",
    "read_folder(path_train)\n",
    "read_folder(path_test)"
   ]
  },
  {
   "cell_type": "code",
   "execution_count": 39,
   "metadata": {},
   "outputs": [],
   "source": [
    "\n",
    "train_dataset = datasets.ImageFolder(path_train, transform = transforms.ToTensor())\n",
    "train_loader = DataLoader(train_dataset, batch_size = 4, shuffle = True)\n",
    "\n",
    "test_dataset = datasets.ImageFolder(path_test, transform = transforms.ToTensor())\n",
    "test_loader = DataLoader(test_dataset, batch_size = 4, shuffle = True)\n"
   ]
  },
  {
   "cell_type": "code",
   "execution_count": 40,
   "metadata": {},
   "outputs": [],
   "source": [
    "class Net(nn.Module):\n",
    "\n",
    "    def __init__(self):\n",
    "\n",
    "        super(Net, self).__init__()\n",
    "        # 1 input image channel, 6 output channels, 5x5 square convolution kernel\n",
    "        self.conv1 = nn.Conv2d(3, 6, 5)\n",
    "        self.conv2 = nn.Conv2d(6, 16, 5)\n",
    "        # an affine operation: y = Wx + b\n",
    "        self.fc1 = nn.Linear(16 * 22 * 22, 120) # (size of input, size of output)\n",
    "        self.fc2 = nn.Linear(120, 84)\n",
    "        self.fc3 = nn.Linear(84, 83)\n",
    "\n",
    "\n",
    "\n",
    "    def forward(self, x):\n",
    "        x = F.max_pool2d(F.relu(self.conv1(x)), (2, 2))\n",
    "        x = F.max_pool2d(F.relu(self.conv2(x)), 2)\n",
    "        x = x.view(-1, self.num_flat_features(x))\n",
    "        x= self.dropout(x)\n",
    "        x = F.relu(self.fc1(x))\n",
    "        x = F.relu(self.fc2(x))\n",
    "        x = self.fc3(x)\n",
    "        return x\n",
    "\n",
    "    def num_flat_features(self, x):\n",
    "\n",
    "        size = x.size()[1:] # all dimensions except the batch dimension\n",
    "\n",
    "        num_features = 1\n",
    "        for s in size:\n",
    "    \n",
    "            num_features *= s\n",
    "\n",
    "        return num_features\n",
    "\n"
   ]
  },
  {
   "cell_type": "code",
   "execution_count": 41,
   "metadata": {},
   "outputs": [
    {
     "name": "stdout",
     "output_type": "stream",
     "text": [
      "Device : cuda => ok\n",
      "Net(\n",
      "  (conv1): Conv2d(3, 6, kernel_size=(5, 5), stride=(1, 1))\n",
      "  (conv2): Conv2d(6, 16, kernel_size=(5, 5), stride=(1, 1))\n",
      "  (fc1): Linear(in_features=7744, out_features=120, bias=True)\n",
      "  (fc2): Linear(in_features=120, out_features=84, bias=True)\n",
      "  (fc3): Linear(in_features=84, out_features=83, bias=True)\n",
      ")\n"
     ]
    }
   ],
   "source": [
    "\n",
    "#check CPU on machine \n",
    "\n",
    "device = torch.device('cuda:0' if torch.cuda.is_available() else \"cpu\")\n",
    "\n",
    "if device == torch.device('cuda:0') :\n",
    "    print \"Device : cuda => ok\"\n",
    "else :\n",
    "    print \"Device : cpu\"\n",
    "    print \"CUDA required\"\n",
    "\n",
    "net = Net().to(device) # for cuda\n",
    "#net = Net()\n",
    "print(net)\n",
    "\n",
    "criterion = nn.CrossEntropyLoss()\n",
    "optimizer=optim.SGD(net.parameters(),lr=0.0001,momentum=0.9)"
   ]
  },
  {
   "cell_type": "code",
   "execution_count": 42,
   "metadata": {},
   "outputs": [
    {
     "name": "stdout",
     "output_type": "stream",
     "text": [
      "[1, 2000] loss: 4.415\n",
      "[1, 4000] loss: 4.300\n",
      "[1, 6000] loss: 3.122\n",
      "[1, 8000] loss: 2.162\n",
      "[1,10000] loss: 1.622\n",
      "[2, 2000] loss: 1.018\n",
      "[2, 4000] loss: 0.719\n",
      "[2, 6000] loss: 0.553\n",
      "[2, 8000] loss: 0.444\n",
      "[2,10000] loss: 0.363\n",
      "[3, 2000] loss: 0.291\n",
      "[3, 4000] loss: 0.235\n",
      "[3, 6000] loss: 0.194\n",
      "[3, 8000] loss: 0.192\n",
      "[3,10000] loss: 0.164\n",
      "[4, 2000] loss: 0.114\n",
      "[4, 4000] loss: 0.134\n",
      "[4, 6000] loss: 0.089\n",
      "[4, 8000] loss: 0.091\n",
      "[4,10000] loss: 0.079\n",
      "Finished Training\n"
     ]
    }
   ],
   "source": [
    "epochs = 4\n",
    "for epoch in range(epochs):\n",
    "    running_loss=0.0\n",
    "    for i, data in enumerate(train_loader,0):\n",
    "        inputs,labels = data\n",
    "        inputs,labels = inputs.to(device), labels.to(device) # for cuda\n",
    "        optimizer.zero_grad()\n",
    "        outputs=net(inputs)\n",
    "        loss=criterion(outputs,labels)\n",
    "        loss.backward()\n",
    "        optimizer.step()\n",
    "\n",
    "        running_loss+=loss.item()\n",
    "        if i % 2000 == 1999: \n",
    "            print ('[%d,%5d] loss: %.3f' % (epoch+1,i+1,running_loss/2000))\n",
    "            running_loss=0.0\n",
    "print ('Finished Training')"
   ]
  },
  {
   "cell_type": "code",
   "execution_count": 43,
   "metadata": {},
   "outputs": [
    {
     "name": "stdout",
     "output_type": "stream",
     "text": [
      "tensor([56, 82, 12, 25])\n"
     ]
    }
   ],
   "source": [
    "\n",
    "def imshow(img):\n",
    "    img=img/2+0.5\n",
    "    npimg=img.numpy()\n",
    "    plt.imshow(np.transpose(npimg,(1,2,0)))\n",
    "\n",
    "testiter = iter(test_loader)\n",
    "images, labels =  testiter.next()\n",
    "print labels"
   ]
  },
  {
   "cell_type": "code",
   "execution_count": 44,
   "metadata": {},
   "outputs": [
    {
     "name": "stdout",
     "output_type": "stream",
     "text": [
      "tensor([56, 82, 12, 25], device='cuda:0')\n"
     ]
    }
   ],
   "source": [
    "images = images.to(device, torch.float)\n",
    "outputs = net(images)\n",
    "_,predicted = torch.max(outputs,1)\n",
    "print predicted"
   ]
  },
  {
   "cell_type": "code",
   "execution_count": 45,
   "metadata": {
    "scrolled": true
   },
   "outputs": [
    {
     "name": "stdout",
     "output_type": "stream",
     "text": [
      "done\n"
     ]
    }
   ],
   "source": [
    "correct = 0\n",
    "total = 0\n",
    "with torch.no_grad():\n",
    "    for data in test_loader:\n",
    "        images, labels = data # cuda ?\n",
    "        images = images.to(device, torch.float)\n",
    "        labels = labels.to(device, torch.long)\n",
    "        outputs=net(images)\n",
    "        _,predicted= torch.max(outputs,1)\n",
    "        total += labels.size(0)\n",
    "        correct += (predicted == labels).sum().item()\n",
    "        \n",
    "print \"done\""
   ]
  },
  {
   "cell_type": "code",
   "execution_count": 46,
   "metadata": {},
   "outputs": [
    {
     "name": "stdout",
     "output_type": "stream",
     "text": [
      "12093\n",
      "14369\n",
      "84\n",
      "Test dataset : Accuracy of the network on the 14369 test images 84.2304 %\n"
     ]
    }
   ],
   "source": [
    "print correct\n",
    "print total\n",
    "print (100*correct)/int(total)\n",
    "    \n",
    "print 'Test dataset : Accuracy of the network on the %(tot)s test images %(percent)s.%(rest)s %%' % {'tot':total, 'percent':((100*correct)/int(total)), 'rest':((100*correct)%int(total)) }\n"
   ]
  },
  {
   "cell_type": "code",
   "execution_count": 47,
   "metadata": {},
   "outputs": [
    {
     "name": "stdout",
     "output_type": "stream",
     "text": [
      "done\n"
     ]
    }
   ],
   "source": [
    "correct = 0\n",
    "total = 0\n",
    "with torch.no_grad():\n",
    "    for data in train_loader:\n",
    "        images, labels = data # cuda ?\n",
    "        images = images.to(device, torch.float)\n",
    "        labels = labels.to(device, torch.long)\n",
    "        outputs=net(images)\n",
    "        _,predicted= torch.max(outputs,1)\n",
    "        total += labels.size(0)\n",
    "        correct += (predicted == labels).sum().item()\n",
    "        \n",
    "print \"done\""
   ]
  },
  {
   "cell_type": "code",
   "execution_count": 48,
   "metadata": {},
   "outputs": [
    {
     "name": "stdout",
     "output_type": "stream",
     "text": [
      "41733\n",
      "42798\n",
      "97\n",
      "Training dataset : Accuracy of the network on the 42798 training images 97.21894 %\n"
     ]
    }
   ],
   "source": [
    "print correct\n",
    "print total\n",
    "print (100*correct)/int(total)\n",
    "    \n",
    "print 'Training dataset : Accuracy of the network on the %(tot)s training images %(percent)s.%(rest)s %%' % {'tot':total, 'percent':((100*correct)/int(total)), 'rest':((100*correct)%int(total)) }\n"
   ]
  },
  {
   "cell_type": "code",
   "execution_count": 49,
   "metadata": {},
   "outputs": [
    {
     "name": "stdout",
     "output_type": "stream",
     "text": [
      "Time elapsed : 215.169229984 s\n"
     ]
    }
   ],
   "source": [
    "#Time counter\n",
    "print \"Time elapsed :\", time.time() - start, \"s\""
   ]
  },
  {
   "cell_type": "code",
   "execution_count": null,
   "metadata": {},
   "outputs": [],
   "source": []
  }
 ],
 "metadata": {
  "kernelspec": {
   "display_name": "Python 2",
   "language": "python",
   "name": "python2"
  },
  "language_info": {
   "codemirror_mode": {
    "name": "ipython",
    "version": 2
   },
   "file_extension": ".py",
   "mimetype": "text/x-python",
   "name": "python",
   "nbconvert_exporter": "python",
   "pygments_lexer": "ipython2",
   "version": "2.7.15+"
  }
 },
 "nbformat": 4,
 "nbformat_minor": 2
}
